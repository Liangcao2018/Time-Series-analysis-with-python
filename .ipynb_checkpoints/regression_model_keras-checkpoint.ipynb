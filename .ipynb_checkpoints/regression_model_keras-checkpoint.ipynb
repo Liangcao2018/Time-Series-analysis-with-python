{
 "cells": [
  {
   "cell_type": "code",
   "execution_count": 1,
   "metadata": {},
   "outputs": [
    {
     "name": "stderr",
     "output_type": "stream",
     "text": [
      "Using TensorFlow backend.\n"
     ]
    }
   ],
   "source": [
    "import pandas as pd\n",
    "import numpy as np\n",
    "import keras\n",
    "from keras.models import Sequential\n",
    "from keras.layers import Dense\n",
    "from sklearn.metrics import mean_squared_error\n",
    "import matplotlib.pyplot as plt\n",
    "%matplotlib inline"
   ]
  },
  {
   "cell_type": "markdown",
   "metadata": {},
   "source": [
    "### y = mx +b + noies"
   ]
  },
  {
   "cell_type": "code",
   "execution_count": 2,
   "metadata": {},
   "outputs": [],
   "source": [
    "m = 2\n",
    "b = 3\n",
    "x = np.linspace(0, 50, 100)"
   ]
  },
  {
   "cell_type": "code",
   "execution_count": 3,
   "metadata": {},
   "outputs": [],
   "source": [
    "np.random.seed(101)\n",
    "noise=np.random.normal(loc=4, scale=4, size=len(x))"
   ]
  },
  {
   "cell_type": "code",
   "execution_count": 4,
   "metadata": {},
   "outputs": [],
   "source": [
    "y = 2*x + b +noise"
   ]
  },
  {
   "cell_type": "code",
   "execution_count": 5,
   "metadata": {},
   "outputs": [
    {
     "data": {
      "image/png": "[encoded data removed]",
      "text/plain": [
       "<Figure size 432x288 with 1 Axes>"
      ]
     },
     "metadata": {
      "needs_background": "light"
     },
     "output_type": "display_data"
    }
   ],
   "source": [
    "plt.plot(x, y, '*');"
   ]
  },
  {
   "cell_type": "code",
   "execution_count": 6,
   "metadata": {},
   "outputs": [],
   "source": [
    "model = Sequential()\n",
    "model.add(Dense(4, input_dim=1, activation='relu'))\n",
    "model.add(Dense(4, activation='relu'))\n",
    "model.add(Dense(1, activation='linear'))\n",
    "model.compile(loss='mse', optimizer='adam')"
   ]
  },
  {
   "cell_type": "code",
   "execution_count": 7,
   "metadata": {},
   "outputs": [
    {
     "name": "stdout",
     "output_type": "stream",
     "text": [
      "_________________________________________________________________\n",
      "Layer (type)                 Output Shape              Param #   \n",
      "=================================================================\n",
      "dense_1 (Dense)              (None, 4)                 8         \n",
      "_________________________________________________________________\n",
      "dense_2 (Dense)              (None, 4)                 20        \n",
      "_________________________________________________________________\n",
      "dense_3 (Dense)              (None, 1)                 5         \n",
      "=================================================================\n",
      "Total params: 33\n",
      "Trainable params: 33\n",
      "Non-trainable params: 0\n",
      "_________________________________________________________________\n"
     ]
    }
   ],
   "source": [
    "model.summary()"
   ]
  },
  {
   "cell_type": "code",
   "execution_count": 8,
   "metadata": {},
   "outputs": [
    {
     "name": "stdout",
     "output_type": "stream",
     "text": [
      "Epoch 1/200\n",
      "100/100 [==============================] - 0s 3ms/step - loss: 4068.4333\n",
      "Epoch 2/200\n",
      "100/100 [==============================] - 0s 194us/step - loss: 4060.3084\n",
      "Epoch 3/200\n",
      "100/100 [==============================] - 0s 191us/step - loss: 4051.8131\n",
      "Epoch 4/200\n",
      "100/100 [==============================] - 0s 142us/step - loss: 4043.1454\n",
      "Epoch 5/200\n",
      "100/100 [==============================] - 0s 143us/step - loss: 4034.6978\n",
      "Epoch 6/200\n",
      "100/100 [==============================] - 0s 125us/step - loss: 4025.2413\n",
      "Epoch 7/200\n",
      "100/100 [==============================] - 0s 138us/step - loss: 4015.8529\n",
      "Epoch 8/200\n",
      "100/100 [==============================] - 0s 183us/step - loss: 4006.5045\n",
      "Epoch 9/200\n",
      "100/100 [==============================] - 0s 98us/step - loss: 3996.7558\n",
      "Epoch 10/200\n",
      "100/100 [==============================] - 0s 120us/step - loss: 3986.4519\n",
      "Epoch 11/200\n",
      "100/100 [==============================] - 0s 102us/step - loss: 3976.2748\n",
      "Epoch 12/200\n",
      "100/100 [==============================] - 0s 119us/step - loss: 3964.9812\n",
      "Epoch 13/200\n",
      "100/100 [==============================] - 0s 144us/step - loss: 3953.6854\n",
      "Epoch 14/200\n",
      "100/100 [==============================] - 0s 94us/step - loss: 3942.9720\n",
      "Epoch 15/200\n",
      "100/100 [==============================] - 0s 138us/step - loss: 3931.7623\n",
      "Epoch 16/200\n",
      "100/100 [==============================] - 0s 119us/step - loss: 3919.5209\n",
      "Epoch 17/200\n",
      "100/100 [==============================] - 0s 127us/step - loss: 3907.7644\n",
      "Epoch 18/200\n",
      "100/100 [==============================] - 0s 97us/step - loss: 3895.3375\n",
      "Epoch 19/200\n",
      "100/100 [==============================] - 0s 96us/step - loss: 3881.9715\n",
      "Epoch 20/200\n",
      "100/100 [==============================] - 0s 96us/step - loss: 3868.0189\n",
      "Epoch 21/200\n",
      "100/100 [==============================] - 0s 136us/step - loss: 3854.9189\n",
      "Epoch 22/200\n",
      "100/100 [==============================] - 0s 106us/step - loss: 3839.6290\n",
      "Epoch 23/200\n",
      "100/100 [==============================] - 0s 101us/step - loss: 3824.3608\n",
      "Epoch 24/200\n",
      "100/100 [==============================] - 0s 117us/step - loss: 3809.3428\n",
      "Epoch 25/200\n",
      "100/100 [==============================] - 0s 117us/step - loss: 3793.4730\n",
      "Epoch 26/200\n",
      "100/100 [==============================] - 0s 91us/step - loss: 3777.3524\n",
      "Epoch 27/200\n",
      "100/100 [==============================] - 0s 115us/step - loss: 3761.0579\n",
      "Epoch 28/200\n",
      "100/100 [==============================] - 0s 124us/step - loss: 3743.9803\n",
      "Epoch 29/200\n",
      "100/100 [==============================] - 0s 109us/step - loss: 3726.0631\n",
      "Epoch 30/200\n",
      "100/100 [==============================] - 0s 155us/step - loss: 3709.1931\n",
      "Epoch 31/200\n",
      "100/100 [==============================] - 0s 102us/step - loss: 3691.1491\n",
      "Epoch 32/200\n",
      "100/100 [==============================] - 0s 100us/step - loss: 3672.6378\n",
      "Epoch 33/200\n",
      "100/100 [==============================] - 0s 131us/step - loss: 3653.3581\n",
      "Epoch 34/200\n",
      "100/100 [==============================] - 0s 98us/step - loss: 3635.1747\n",
      "Epoch 35/200\n",
      "100/100 [==============================] - 0s 82us/step - loss: 3615.6627\n",
      "Epoch 36/200\n",
      "100/100 [==============================] - 0s 93us/step - loss: 3595.7647\n",
      "Epoch 37/200\n",
      "100/100 [==============================] - 0s 84us/step - loss: 3576.1739\n",
      "Epoch 38/200\n",
      "100/100 [==============================] - 0s 92us/step - loss: 3555.2998\n",
      "Epoch 39/200\n",
      "100/100 [==============================] - 0s 122us/step - loss: 3535.0847\n",
      "Epoch 40/200\n",
      "100/100 [==============================] - 0s 105us/step - loss: 3514.6505\n",
      "Epoch 41/200\n",
      "100/100 [==============================] - 0s 117us/step - loss: 3492.2138\n",
      "Epoch 42/200\n",
      "100/100 [==============================] - 0s 196us/step - loss: 3468.9977\n",
      "Epoch 43/200\n",
      "100/100 [==============================] - 0s 119us/step - loss: 3446.9179\n",
      "Epoch 44/200\n",
      "100/100 [==============================] - 0s 93us/step - loss: 3423.0980\n",
      "Epoch 45/200\n",
      "100/100 [==============================] - 0s 101us/step - loss: 3400.1576\n",
      "Epoch 46/200\n",
      "100/100 [==============================] - 0s 110us/step - loss: 3374.3708\n",
      "Epoch 47/200\n",
      "100/100 [==============================] - 0s 145us/step - loss: 3351.2751\n",
      "Epoch 48/200\n",
      "100/100 [==============================] - 0s 89us/step - loss: 3326.6806\n",
      "Epoch 49/200\n",
      "100/100 [==============================] - 0s 130us/step - loss: 3302.2600\n",
      "Epoch 50/200\n",
      "100/100 [==============================] - 0s 136us/step - loss: 3276.6740\n",
      "Epoch 51/200\n",
      "100/100 [==============================] - 0s 97us/step - loss: 3251.4613\n",
      "Epoch 52/200\n",
      "100/100 [==============================] - 0s 117us/step - loss: 3224.4841\n",
      "Epoch 53/200\n",
      "100/100 [==============================] - 0s 100us/step - loss: 3197.5123\n",
      "Epoch 54/200\n",
      "100/100 [==============================] - 0s 101us/step - loss: 3170.5913\n",
      "Epoch 55/200\n",
      "100/100 [==============================] - 0s 110us/step - loss: 3141.6636\n",
      "Epoch 56/200\n",
      "100/100 [==============================] - 0s 106us/step - loss: 3113.6463\n",
      "Epoch 57/200\n",
      "100/100 [==============================] - 0s 88us/step - loss: 3086.1021\n",
      "Epoch 58/200\n",
      "100/100 [==============================] - 0s 127us/step - loss: 3055.3494\n",
      "Epoch 59/200\n",
      "100/100 [==============================] - 0s 117us/step - loss: 3026.9042\n",
      "Epoch 60/200\n",
      "100/100 [==============================] - 0s 129us/step - loss: 2995.6035\n",
      "Epoch 61/200\n",
      "100/100 [==============================] - 0s 83us/step - loss: 2965.3116\n",
      "Epoch 62/200\n",
      "100/100 [==============================] - 0s 93us/step - loss: 2934.8192\n",
      "Epoch 63/200\n",
      "100/100 [==============================] - 0s 97us/step - loss: 2905.6922\n",
      "Epoch 64/200\n",
      "100/100 [==============================] - 0s 117us/step - loss: 2874.4198\n",
      "Epoch 65/200\n",
      "100/100 [==============================] - 0s 103us/step - loss: 2843.4517\n",
      "Epoch 66/200\n",
      "100/100 [==============================] - 0s 122us/step - loss: 2811.4784\n",
      "Epoch 67/200\n",
      "100/100 [==============================] - 0s 152us/step - loss: 2779.9928\n",
      "Epoch 68/200\n",
      "100/100 [==============================] - 0s 100us/step - loss: 2748.5126\n",
      "Epoch 69/200\n",
      "100/100 [==============================] - 0s 117us/step - loss: 2716.1367\n",
      "Epoch 70/200\n",
      "100/100 [==============================] - 0s 104us/step - loss: 2683.6352\n",
      "Epoch 71/200\n",
      "100/100 [==============================] - 0s 100us/step - loss: 2650.7094\n",
      "Epoch 72/200\n",
      "100/100 [==============================] - 0s 93us/step - loss: 2615.9902\n",
      "Epoch 73/200\n",
      "100/100 [==============================] - 0s 162us/step - loss: 2579.9862\n",
      "Epoch 74/200\n",
      "100/100 [==============================] - 0s 104us/step - loss: 2544.0914\n",
      "Epoch 75/200\n",
      "100/100 [==============================] - 0s 112us/step - loss: 2507.6039\n",
      "Epoch 76/200\n",
      "100/100 [==============================] - 0s 133us/step - loss: 2471.3500\n",
      "Epoch 77/200\n",
      "100/100 [==============================] - 0s 95us/step - loss: 2438.1345\n",
      "Epoch 78/200\n",
      "100/100 [==============================] - 0s 95us/step - loss: 2401.5972\n",
      "Epoch 79/200\n",
      "100/100 [==============================] - 0s 114us/step - loss: 2367.1627\n",
      "Epoch 80/200\n",
      "100/100 [==============================] - 0s 111us/step - loss: 2331.1330\n",
      "Epoch 81/200\n",
      "100/100 [==============================] - 0s 129us/step - loss: 2296.4781\n",
      "Epoch 82/200\n",
      "100/100 [==============================] - 0s 102us/step - loss: 2258.4164\n",
      "Epoch 83/200\n",
      "100/100 [==============================] - 0s 97us/step - loss: 2220.7188\n",
      "Epoch 84/200\n",
      "100/100 [==============================] - 0s 108us/step - loss: 2181.7055\n",
      "Epoch 85/200\n",
      "100/100 [==============================] - 0s 110us/step - loss: 2144.3586\n",
      "Epoch 86/200\n",
      "100/100 [==============================] - 0s 115us/step - loss: 2106.2314\n",
      "Epoch 87/200\n",
      "100/100 [==============================] - 0s 112us/step - loss: 2068.2432\n",
      "Epoch 88/200\n",
      "100/100 [==============================] - 0s 138us/step - loss: 2032.4407\n",
      "Epoch 89/200\n",
      "100/100 [==============================] - 0s 90us/step - loss: 1994.2782\n",
      "Epoch 90/200\n",
      "100/100 [==============================] - 0s 120us/step - loss: 1958.4384\n",
      "Epoch 91/200\n",
      "100/100 [==============================] - 0s 108us/step - loss: 1920.4408\n",
      "Epoch 92/200\n",
      "100/100 [==============================] - 0s 100us/step - loss: 1882.6121\n",
      "Epoch 93/200\n",
      "100/100 [==============================] - 0s 151us/step - loss: 1844.8520\n",
      "Epoch 94/200\n",
      "100/100 [==============================] - 0s 102us/step - loss: 1807.6632\n",
      "Epoch 95/200\n",
      "100/100 [==============================] - 0s 98us/step - loss: 1772.1051\n",
      "Epoch 96/200\n",
      "100/100 [==============================] - 0s 140us/step - loss: 1734.0831\n",
      "Epoch 97/200\n",
      "100/100 [==============================] - 0s 91us/step - loss: 1698.5478\n",
      "Epoch 98/200\n",
      "100/100 [==============================] - 0s 102us/step - loss: 1663.2460\n",
      "Epoch 99/200\n",
      "100/100 [==============================] - 0s 108us/step - loss: 1627.1955\n",
      "Epoch 100/200\n",
      "100/100 [==============================] - 0s 101us/step - loss: 1590.1082\n",
      "Epoch 101/200\n",
      "100/100 [==============================] - 0s 117us/step - loss: 1553.6460\n",
      "Epoch 102/200\n",
      "100/100 [==============================] - 0s 112us/step - loss: 1519.1496\n",
      "Epoch 103/200\n",
      "100/100 [==============================] - 0s 102us/step - loss: 1482.8571\n",
      "Epoch 104/200\n",
      "100/100 [==============================] - 0s 110us/step - loss: 1448.0919\n",
      "Epoch 105/200\n",
      "100/100 [==============================] - 0s 122us/step - loss: 1412.0746\n",
      "Epoch 106/200\n",
      "100/100 [==============================] - 0s 102us/step - loss: 1377.9633\n",
      "Epoch 107/200\n",
      "100/100 [==============================] - 0s 126us/step - loss: 1345.0243\n",
      "Epoch 108/200\n",
      "100/100 [==============================] - 0s 134us/step - loss: 1311.6385\n",
      "Epoch 109/200\n",
      "100/100 [==============================] - 0s 104us/step - loss: 1280.9134\n",
      "Epoch 110/200\n",
      "100/100 [==============================] - 0s 117us/step - loss: 1248.1893\n",
      "Epoch 111/200\n",
      "100/100 [==============================] - 0s 99us/step - loss: 1215.4461\n",
      "Epoch 112/200\n",
      "100/100 [==============================] - 0s 117us/step - loss: 1184.0926\n",
      "Epoch 113/200\n",
      "100/100 [==============================] - 0s 102us/step - loss: 1150.8648\n",
      "Epoch 114/200\n",
      "100/100 [==============================] - 0s 110us/step - loss: 1118.8565\n",
      "Epoch 115/200\n",
      "100/100 [==============================] - 0s 95us/step - loss: 1087.5328\n",
      "Epoch 116/200\n",
      "100/100 [==============================] - 0s 113us/step - loss: 1054.5193\n",
      "Epoch 117/200\n",
      "100/100 [==============================] - 0s 111us/step - loss: 1022.7577\n",
      "Epoch 118/200\n",
      "100/100 [==============================] - 0s 109us/step - loss: 991.6873\n",
      "Epoch 119/200\n",
      "100/100 [==============================] - 0s 184us/step - loss: 961.5772\n",
      "Epoch 120/200\n",
      "100/100 [==============================] - 0s 103us/step - loss: 929.6619\n",
      "Epoch 121/200\n",
      "100/100 [==============================] - 0s 114us/step - loss: 897.7944\n",
      "Epoch 122/200\n",
      "100/100 [==============================] - 0s 112us/step - loss: 865.8258\n",
      "Epoch 123/200\n",
      "100/100 [==============================] - 0s 145us/step - loss: 836.0493\n",
      "Epoch 124/200\n",
      "100/100 [==============================] - 0s 126us/step - loss: 806.3318\n",
      "Epoch 125/200\n",
      "100/100 [==============================] - 0s 112us/step - loss: 777.4956\n",
      "Epoch 126/200\n",
      "100/100 [==============================] - 0s 103us/step - loss: 747.8515\n",
      "Epoch 127/200\n",
      "100/100 [==============================] - 0s 106us/step - loss: 719.2610\n",
      "Epoch 128/200\n",
      "100/100 [==============================] - 0s 107us/step - loss: 692.2301\n",
      "Epoch 129/200\n",
      "100/100 [==============================] - 0s 109us/step - loss: 666.0699\n",
      "Epoch 130/200\n",
      "100/100 [==============================] - ETA: 0s - loss: 646.566 - 0s 108us/step - loss: 640.8127\n",
      "Epoch 131/200\n",
      "100/100 [==============================] - 0s 98us/step - loss: 617.0980\n",
      "Epoch 132/200\n",
      "100/100 [==============================] - 0s 105us/step - loss: 594.3292\n",
      "Epoch 133/200\n",
      "100/100 [==============================] - 0s 109us/step - loss: 571.0233\n",
      "Epoch 134/200\n",
      "100/100 [==============================] - 0s 104us/step - loss: 548.5922\n",
      "Epoch 135/200\n",
      "100/100 [==============================] - 0s 102us/step - loss: 526.2392\n",
      "Epoch 136/200\n",
      "100/100 [==============================] - 0s 102us/step - loss: 504.9363\n",
      "Epoch 137/200\n",
      "100/100 [==============================] - 0s 103us/step - loss: 484.3330\n",
      "Epoch 138/200\n",
      "100/100 [==============================] - 0s 101us/step - loss: 463.1446\n",
      "Epoch 139/200\n",
      "100/100 [==============================] - 0s 93us/step - loss: 443.5856\n",
      "Epoch 140/200\n",
      "100/100 [==============================] - 0s 110us/step - loss: 425.2403\n",
      "Epoch 141/200\n",
      "100/100 [==============================] - 0s 100us/step - loss: 408.5146\n",
      "Epoch 142/200\n",
      "100/100 [==============================] - 0s 98us/step - loss: 392.0107\n",
      "Epoch 143/200\n",
      "100/100 [==============================] - 0s 132us/step - loss: 376.3799\n",
      "Epoch 144/200\n",
      "100/100 [==============================] - 0s 119us/step - loss: 360.5749\n",
      "Epoch 145/200\n",
      "100/100 [==============================] - 0s 125us/step - loss: 346.5194\n",
      "Epoch 146/200\n",
      "100/100 [==============================] - 0s 109us/step - loss: 331.7597\n",
      "Epoch 147/200\n",
      "100/100 [==============================] - 0s 131us/step - loss: 316.6697\n",
      "Epoch 148/200\n",
      "100/100 [==============================] - 0s 109us/step - loss: 301.9279\n",
      "Epoch 149/200\n",
      "100/100 [==============================] - 0s 98us/step - loss: 288.1954\n",
      "Epoch 150/200\n",
      "100/100 [==============================] - 0s 106us/step - loss: 274.4856\n",
      "Epoch 151/200\n",
      "100/100 [==============================] - 0s 98us/step - loss: 261.0884\n",
      "Epoch 152/200\n",
      "100/100 [==============================] - 0s 103us/step - loss: 248.2487\n",
      "Epoch 153/200\n",
      "100/100 [==============================] - 0s 140us/step - loss: 236.7025\n",
      "Epoch 154/200\n",
      "100/100 [==============================] - 0s 101us/step - loss: 226.2196\n",
      "Epoch 155/200\n",
      "100/100 [==============================] - 0s 102us/step - loss: 215.6990\n",
      "Epoch 156/200\n",
      "100/100 [==============================] - 0s 114us/step - loss: 205.9022\n",
      "Epoch 157/200\n",
      "100/100 [==============================] - 0s 100us/step - loss: 196.2833\n",
      "Epoch 158/200\n",
      "100/100 [==============================] - 0s 102us/step - loss: 187.6272\n",
      "Epoch 159/200\n",
      "100/100 [==============================] - 0s 124us/step - loss: 179.1393\n",
      "Epoch 160/200\n",
      "100/100 [==============================] - 0s 106us/step - loss: 170.8717\n",
      "Epoch 161/200\n",
      "100/100 [==============================] - 0s 107us/step - loss: 162.3713\n",
      "Epoch 162/200\n",
      "100/100 [==============================] - 0s 107us/step - loss: 154.4271\n",
      "Epoch 163/200\n",
      "100/100 [==============================] - 0s 117us/step - loss: 146.8702\n",
      "Epoch 164/200\n",
      "100/100 [==============================] - 0s 92us/step - loss: 139.4486\n",
      "Epoch 165/200\n",
      "100/100 [==============================] - 0s 101us/step - loss: 132.4099\n",
      "Epoch 166/200\n",
      "100/100 [==============================] - 0s 110us/step - loss: 126.1873\n",
      "Epoch 167/200\n",
      "100/100 [==============================] - 0s 110us/step - loss: 119.8490\n",
      "Epoch 168/200\n",
      "100/100 [==============================] - 0s 131us/step - loss: 113.9529\n",
      "Epoch 169/200\n",
      "100/100 [==============================] - 0s 115us/step - loss: 108.2123\n",
      "Epoch 170/200\n",
      "100/100 [==============================] - 0s 108us/step - loss: 102.7700\n",
      "Epoch 171/200\n",
      "100/100 [==============================] - 0s 132us/step - loss: 97.6461\n",
      "Epoch 172/200\n",
      "100/100 [==============================] - 0s 118us/step - loss: 92.9539\n",
      "Epoch 173/200\n",
      "100/100 [==============================] - ETA: 0s - loss: 100.732 - 0s 101us/step - loss: 88.1818\n",
      "Epoch 174/200\n",
      "100/100 [==============================] - 0s 98us/step - loss: 83.9258\n",
      "Epoch 175/200\n",
      "100/100 [==============================] - 0s 96us/step - loss: 79.7537\n",
      "Epoch 176/200\n",
      "100/100 [==============================] - 0s 103us/step - loss: 75.8676\n",
      "Epoch 177/200\n",
      "100/100 [==============================] - 0s 110us/step - loss: 72.1909\n",
      "Epoch 178/200\n",
      "100/100 [==============================] - 0s 99us/step - loss: 68.9870\n",
      "Epoch 179/200\n",
      "100/100 [==============================] - 0s 111us/step - loss: 65.8751\n",
      "Epoch 180/200\n",
      "100/100 [==============================] - 0s 105us/step - loss: 63.1706\n",
      "Epoch 181/200\n",
      "100/100 [==============================] - 0s 115us/step - loss: 60.4326\n",
      "Epoch 182/200\n",
      "100/100 [==============================] - 0s 136us/step - loss: 57.9272\n",
      "Epoch 183/200\n",
      "100/100 [==============================] - 0s 149us/step - loss: 55.5819\n",
      "Epoch 184/200\n",
      "100/100 [==============================] - 0s 105us/step - loss: 53.4137\n",
      "Epoch 185/200\n",
      "100/100 [==============================] - 0s 105us/step - loss: 51.3231\n",
      "Epoch 186/200\n"
     ]
    },
    {
     "name": "stdout",
     "output_type": "stream",
     "text": [
      "100/100 [==============================] - 0s 104us/step - loss: 49.4834\n",
      "Epoch 187/200\n",
      "100/100 [==============================] - 0s 137us/step - loss: 47.7966\n",
      "Epoch 188/200\n",
      "100/100 [==============================] - 0s 112us/step - loss: 46.2495\n",
      "Epoch 189/200\n",
      "100/100 [==============================] - 0s 111us/step - loss: 44.7969\n",
      "Epoch 190/200\n",
      "100/100 [==============================] - 0s 90us/step - loss: 43.3937\n",
      "Epoch 191/200\n",
      "100/100 [==============================] - 0s 133us/step - loss: 42.1183\n",
      "Epoch 192/200\n",
      "100/100 [==============================] - 0s 101us/step - loss: 40.9086\n",
      "Epoch 193/200\n",
      "100/100 [==============================] - 0s 100us/step - loss: 39.6901\n",
      "Epoch 194/200\n",
      "100/100 [==============================] - 0s 97us/step - loss: 38.5542\n",
      "Epoch 195/200\n",
      "100/100 [==============================] - 0s 260us/step - loss: 37.5293\n",
      "Epoch 196/200\n",
      "100/100 [==============================] - 0s 94us/step - loss: 36.6048\n",
      "Epoch 197/200\n",
      "100/100 [==============================] - 0s 107us/step - loss: 35.7531\n",
      "Epoch 198/200\n",
      "100/100 [==============================] - 0s 102us/step - loss: 34.9717\n",
      "Epoch 199/200\n",
      "100/100 [==============================] - 0s 88us/step - loss: 34.3023\n",
      "Epoch 200/200\n",
      "100/100 [==============================] - 0s 115us/step - loss: 33.7078\n"
     ]
    },
    {
     "data": {
      "text/plain": [
       "<keras.callbacks.History at 0x7f8d388d1710>"
      ]
     },
     "execution_count": 8,
     "metadata": {},
     "output_type": "execute_result"
    }
   ],
   "source": [
    "model.fit(x, y, epochs=200)"
   ]
  },
  {
   "cell_type": "code",
   "execution_count": 9,
   "metadata": {},
   "outputs": [
    {
     "data": {
      "image/png": "[encoded data removed]",
      "text/plain": [
       "<Figure size 432x288 with 1 Axes>"
      ]
     },
     "metadata": {
      "needs_background": "light"
     },
     "output_type": "display_data"
    }
   ],
   "source": [
    "loss = model.history.history['loss']\n",
    "epochs = range(len(loss))\n",
    "plt.plot(epochs,loss);"
   ]
  },
  {
   "cell_type": "code",
   "execution_count": 10,
   "metadata": {},
   "outputs": [],
   "source": [
    "x_for_pred = np.linspace(0, 50, 100)\n",
    "y_pred = model.predict(x_for_pred)"
   ]
  },
  {
   "cell_type": "code",
   "execution_count": 11,
   "metadata": {},
   "outputs": [
    {
     "data": {
      "image/png": "[encoded data removed]",
      "text/plain": [
       "<Figure size 432x288 with 1 Axes>"
      ]
     },
     "metadata": {
      "needs_background": "light"
     },
     "output_type": "display_data"
    }
   ],
   "source": [
    "plt.plot(x, y, '*')\n",
    "plt.plot(x_for_pred, y_pred, 'r');"
   ]
  },
  {
   "cell_type": "code",
   "execution_count": 12,
   "metadata": {},
   "outputs": [
    {
     "data": {
      "text/plain": [
       "33.24958302487192"
      ]
     },
     "execution_count": 12,
     "metadata": {},
     "output_type": "execute_result"
    }
   ],
   "source": [
    "mean_squared_error(y, y_pred)"
   ]
  }
 ],
 "metadata": {
  "kernelspec": {
   "display_name": "Python3_CISCO_forecasting",
   "language": "python",
   "name": "cisco_forecasting"
  },
  "language_info": {
   "codemirror_mode": {
    "name": "ipython",
    "version": 3
   },
   "file_extension": ".py",
   "mimetype": "text/x-python",
   "name": "python",
   "nbconvert_exporter": "python",
   "pygments_lexer": "ipython3",
   "version": "3.6.7"
  }
 },
 "nbformat": 4,
 "nbformat_minor": 2
}
